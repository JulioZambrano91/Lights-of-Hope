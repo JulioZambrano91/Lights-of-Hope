{
 "cells": [
  {
   "cell_type": "markdown",
   "id": "b10f0f46-9001-4864-b6f4-4df675d87778",
   "metadata": {},
   "source": [
    "#### 3. Correlacion"
   ]
  },
  {
   "cell_type": "markdown",
   "id": "a1e96a55-1827-4055-a5c5-b87695d0ef7c",
   "metadata": {},
   "source": [
    "#### 1. Lectura del archivo a utilizar"
   ]
  },
  {
   "cell_type": "code",
   "execution_count": 33,
   "id": "41a83883-e0a5-4415-b3c6-e5a189b84d12",
   "metadata": {},
   "outputs": [
    {
     "name": "stdout",
     "output_type": "stream",
     "text": [
      "<class 'pandas.core.frame.DataFrame'>\n",
      "RangeIndex: 175 entries, 0 to 174\n",
      "Data columns (total 8 columns):\n",
      " #   Column            Non-Null Count  Dtype         \n",
      "---  ------            --------------  -----         \n",
      " 0   País              175 non-null    object        \n",
      " 1   Region            175 non-null    object        \n",
      " 2   Location          175 non-null    object        \n",
      " 3   Magnitud          175 non-null    float64       \n",
      " 4   Clasificación     175 non-null    object        \n",
      " 5   Daños Económicos  175 non-null    int64         \n",
      " 6   Muertes Totales   175 non-null    int64         \n",
      " 7   Fecha             175 non-null    datetime64[ns]\n",
      "dtypes: datetime64[ns](1), float64(1), int64(2), object(4)\n",
      "memory usage: 11.1+ KB\n"
     ]
    }
   ],
   "source": [
    "import pandas as pd\n",
    "import seaborn as sns\n",
    "import matplotlib.pyplot as plt\n",
    "\n",
    "df = pd.read_excel(\"../database/data_procesada/1_magnitud-dañosEco-Deaths.xlsx\")\n",
    "\n",
    "df.drop([\"Unnamed: 0\"], axis=1, inplace=True) # Se elimina una columna con datos incoherentes.\n",
    "\n",
    "df.info()"
   ]
  },
  {
   "cell_type": "code",
   "execution_count": 35,
   "id": "eb40c84f-262a-425c-8c9d-f97d4a01c46b",
   "metadata": {},
   "outputs": [
    {
     "data": {
      "text/html": [
       "<div>\n",
       "<style scoped>\n",
       "    .dataframe tbody tr th:only-of-type {\n",
       "        vertical-align: middle;\n",
       "    }\n",
       "\n",
       "    .dataframe tbody tr th {\n",
       "        vertical-align: top;\n",
       "    }\n",
       "\n",
       "    .dataframe thead th {\n",
       "        text-align: right;\n",
       "    }\n",
       "</style>\n",
       "<table border=\"1\" class=\"dataframe\">\n",
       "  <thead>\n",
       "    <tr style=\"text-align: right;\">\n",
       "      <th></th>\n",
       "      <th>País</th>\n",
       "      <th>Region</th>\n",
       "      <th>Location</th>\n",
       "      <th>Magnitud</th>\n",
       "      <th>Clasificación</th>\n",
       "      <th>Daños Económicos</th>\n",
       "      <th>Muertes Totales</th>\n",
       "      <th>Fecha</th>\n",
       "    </tr>\n",
       "  </thead>\n",
       "  <tbody>\n",
       "    <tr>\n",
       "      <th>0</th>\n",
       "      <td>Mexico</td>\n",
       "      <td>Americas</td>\n",
       "      <td>Distrito Federal, Mexico city, Michoacan provi...</td>\n",
       "      <td>122621.0</td>\n",
       "      <td>Hydrological</td>\n",
       "      <td>16000</td>\n",
       "      <td>41</td>\n",
       "      <td>2010-01-26</td>\n",
       "    </tr>\n",
       "    <tr>\n",
       "      <th>1</th>\n",
       "      <td>Portugal</td>\n",
       "      <td>Europe</td>\n",
       "      <td>Funchal district (Ilha Da Madera province)</td>\n",
       "      <td>483.0</td>\n",
       "      <td>Hydrological</td>\n",
       "      <td>1350000</td>\n",
       "      <td>43</td>\n",
       "      <td>2010-02-20</td>\n",
       "    </tr>\n",
       "    <tr>\n",
       "      <th>2</th>\n",
       "      <td>Colombia</td>\n",
       "      <td>Americas</td>\n",
       "      <td>Sucre, Bolivar, Cordoba, Antioquia, Atlantico,...</td>\n",
       "      <td>1140146.0</td>\n",
       "      <td>Hydrological</td>\n",
       "      <td>1000000</td>\n",
       "      <td>418</td>\n",
       "      <td>2010-04-06</td>\n",
       "    </tr>\n",
       "    <tr>\n",
       "      <th>3</th>\n",
       "      <td>Sri Lanka</td>\n",
       "      <td>Asia</td>\n",
       "      <td>Galle, Matara districts (Southern province), R...</td>\n",
       "      <td>19210.0</td>\n",
       "      <td>Hydrological</td>\n",
       "      <td>105000</td>\n",
       "      <td>28</td>\n",
       "      <td>2010-05-14</td>\n",
       "    </tr>\n",
       "    <tr>\n",
       "      <th>4</th>\n",
       "      <td>France</td>\n",
       "      <td>Europe</td>\n",
       "      <td>Draguignan, Les Arcs, Figanières, Roquebrune s...</td>\n",
       "      <td>7700.0</td>\n",
       "      <td>Hydrological</td>\n",
       "      <td>1500000</td>\n",
       "      <td>25</td>\n",
       "      <td>2010-06-15</td>\n",
       "    </tr>\n",
       "  </tbody>\n",
       "</table>\n",
       "</div>"
      ],
      "text/plain": [
       "        País    Region                                           Location  \\\n",
       "0     Mexico  Americas  Distrito Federal, Mexico city, Michoacan provi...   \n",
       "1   Portugal    Europe         Funchal district (Ilha Da Madera province)   \n",
       "2   Colombia  Americas  Sucre, Bolivar, Cordoba, Antioquia, Atlantico,...   \n",
       "3  Sri Lanka      Asia  Galle, Matara districts (Southern province), R...   \n",
       "4     France    Europe  Draguignan, Les Arcs, Figanières, Roquebrune s...   \n",
       "\n",
       "    Magnitud Clasificación  Daños Económicos  Muertes Totales      Fecha  \n",
       "0   122621.0  Hydrological             16000               41 2010-01-26  \n",
       "1      483.0  Hydrological           1350000               43 2010-02-20  \n",
       "2  1140146.0  Hydrological           1000000              418 2010-04-06  \n",
       "3    19210.0  Hydrological            105000               28 2010-05-14  \n",
       "4     7700.0  Hydrological           1500000               25 2010-06-15  "
      ]
     },
     "execution_count": 35,
     "metadata": {},
     "output_type": "execute_result"
    }
   ],
   "source": [
    "df.head()"
   ]
  },
  {
   "cell_type": "markdown",
   "id": "b2322566-b619-4577-b59e-b611ac78ec72",
   "metadata": {},
   "source": [
    "#### 2. Ejemplo de como se correlacionan en un caso real"
   ]
  },
  {
   "cell_type": "markdown",
   "id": "c5459510-1f1a-4ea3-820b-6ca4ccb878ec",
   "metadata": {},
   "source": [
    "En este ejemplo, tenemos dos paises, Mexico y Portugal, la cantidad de fallecidos es similar, uno tiene 41 y el otro 43\n",
    "Pero notamos lo siguiente, en los daños economicos hay un gasto mayor en Portugal con una magnitud Menor a la de Mexico\n",
    "\n",
    "¿A que se debe esto?: A varios factores realmente, por ejemplo la infraestructura o zona afectada puede este mas preparada \n",
    "para este tipo de desastre, ya sea porque es una zona propensa a inundaciones o que en la zona sea de un lugar de bajo recursos\n",
    "donde la perdida material es menor.\n",
    "\n",
    "Estos detalles lo retomaremos mas adelante en nuestro analisis"
   ]
  },
  {
   "cell_type": "code",
   "execution_count": 82,
   "id": "c33456ea-345e-4d90-aac7-0a0d7f21582e",
   "metadata": {},
   "outputs": [
    {
     "data": {
      "text/html": [
       "<div>\n",
       "<style scoped>\n",
       "    .dataframe tbody tr th:only-of-type {\n",
       "        vertical-align: middle;\n",
       "    }\n",
       "\n",
       "    .dataframe tbody tr th {\n",
       "        vertical-align: top;\n",
       "    }\n",
       "\n",
       "    .dataframe thead th {\n",
       "        text-align: right;\n",
       "    }\n",
       "</style>\n",
       "<table border=\"1\" class=\"dataframe\">\n",
       "  <thead>\n",
       "    <tr style=\"text-align: right;\">\n",
       "      <th></th>\n",
       "      <th>País</th>\n",
       "      <th>Muertes Totales</th>\n",
       "      <th>Daños Económicos</th>\n",
       "      <th>Magnitud</th>\n",
       "      <th>Fecha</th>\n",
       "    </tr>\n",
       "  </thead>\n",
       "  <tbody>\n",
       "    <tr>\n",
       "      <th>0</th>\n",
       "      <td>Mexico</td>\n",
       "      <td>41</td>\n",
       "      <td>16000</td>\n",
       "      <td>122621.0</td>\n",
       "      <td>2010-01-26</td>\n",
       "    </tr>\n",
       "    <tr>\n",
       "      <th>1</th>\n",
       "      <td>Portugal</td>\n",
       "      <td>43</td>\n",
       "      <td>1350000</td>\n",
       "      <td>483.0</td>\n",
       "      <td>2010-02-20</td>\n",
       "    </tr>\n",
       "  </tbody>\n",
       "</table>\n",
       "</div>"
      ],
      "text/plain": [
       "       País  Muertes Totales  Daños Económicos  Magnitud      Fecha\n",
       "0    Mexico               41             16000  122621.0 2010-01-26\n",
       "1  Portugal               43           1350000     483.0 2010-02-20"
      ]
     },
     "execution_count": 82,
     "metadata": {},
     "output_type": "execute_result"
    }
   ],
   "source": [
    "magnitud_fallecidos_economic_damage = df[[\"País\", \"Muertes Totales\", \"Daños Económicos\", \"Magnitud\", \"Fecha\"]]\n",
    "magnitud_fallecidos_economic_damage.head(2)"
   ]
  },
  {
   "cell_type": "markdown",
   "id": "e6dfb8bd-7e70-43be-9af4-52ed4cb41ed7",
   "metadata": {},
   "source": [
    "* Aqui tenemos un describe, con las estadisticas del dataframe que generamos"
   ]
  },
  {
   "cell_type": "code",
   "execution_count": 78,
   "id": "e937ee7a-d9b9-4d18-9ec4-24458b2843b2",
   "metadata": {},
   "outputs": [
    {
     "data": {
      "text/html": [
       "<div>\n",
       "<style scoped>\n",
       "    .dataframe tbody tr th:only-of-type {\n",
       "        vertical-align: middle;\n",
       "    }\n",
       "\n",
       "    .dataframe tbody tr th {\n",
       "        vertical-align: top;\n",
       "    }\n",
       "\n",
       "    .dataframe thead th {\n",
       "        text-align: right;\n",
       "    }\n",
       "</style>\n",
       "<table border=\"1\" class=\"dataframe\">\n",
       "  <thead>\n",
       "    <tr style=\"text-align: right;\">\n",
       "      <th></th>\n",
       "      <th>Muertes Totales</th>\n",
       "      <th>Daños Económicos</th>\n",
       "      <th>Magnitud</th>\n",
       "      <th>Fecha</th>\n",
       "    </tr>\n",
       "  </thead>\n",
       "  <tbody>\n",
       "    <tr>\n",
       "      <th>count</th>\n",
       "      <td>175.000000</td>\n",
       "      <td>1.750000e+02</td>\n",
       "      <td>1.750000e+02</td>\n",
       "      <td>175</td>\n",
       "    </tr>\n",
       "    <tr>\n",
       "      <th>mean</th>\n",
       "      <td>116.548571</td>\n",
       "      <td>1.376487e+06</td>\n",
       "      <td>1.678832e+05</td>\n",
       "      <td>2014-05-29 12:28:48</td>\n",
       "    </tr>\n",
       "    <tr>\n",
       "      <th>min</th>\n",
       "      <td>1.000000</td>\n",
       "      <td>1.760000e+02</td>\n",
       "      <td>4.830000e+02</td>\n",
       "      <td>2010-01-26 00:00:00</td>\n",
       "    </tr>\n",
       "    <tr>\n",
       "      <th>25%</th>\n",
       "      <td>9.000000</td>\n",
       "      <td>2.200000e+04</td>\n",
       "      <td>2.026900e+04</td>\n",
       "      <td>2012-01-27 00:00:00</td>\n",
       "    </tr>\n",
       "    <tr>\n",
       "      <th>50%</th>\n",
       "      <td>32.000000</td>\n",
       "      <td>1.200000e+05</td>\n",
       "      <td>5.513895e+04</td>\n",
       "      <td>2013-12-27 00:00:00</td>\n",
       "    </tr>\n",
       "    <tr>\n",
       "      <th>75%</th>\n",
       "      <td>67.000000</td>\n",
       "      <td>6.000000e+05</td>\n",
       "      <td>1.545815e+05</td>\n",
       "      <td>2016-07-08 12:00:00</td>\n",
       "    </tr>\n",
       "    <tr>\n",
       "      <th>max</th>\n",
       "      <td>6054.000000</td>\n",
       "      <td>4.000000e+07</td>\n",
       "      <td>2.643786e+06</td>\n",
       "      <td>2021-07-12 00:00:00</td>\n",
       "    </tr>\n",
       "    <tr>\n",
       "      <th>std</th>\n",
       "      <td>489.560026</td>\n",
       "      <td>4.844265e+06</td>\n",
       "      <td>3.182548e+05</td>\n",
       "      <td>NaN</td>\n",
       "    </tr>\n",
       "  </tbody>\n",
       "</table>\n",
       "</div>"
      ],
      "text/plain": [
       "       Muertes Totales  Daños Económicos      Magnitud                Fecha\n",
       "count       175.000000      1.750000e+02  1.750000e+02                  175\n",
       "mean        116.548571      1.376487e+06  1.678832e+05  2014-05-29 12:28:48\n",
       "min           1.000000      1.760000e+02  4.830000e+02  2010-01-26 00:00:00\n",
       "25%           9.000000      2.200000e+04  2.026900e+04  2012-01-27 00:00:00\n",
       "50%          32.000000      1.200000e+05  5.513895e+04  2013-12-27 00:00:00\n",
       "75%          67.000000      6.000000e+05  1.545815e+05  2016-07-08 12:00:00\n",
       "max        6054.000000      4.000000e+07  2.643786e+06  2021-07-12 00:00:00\n",
       "std         489.560026      4.844265e+06  3.182548e+05                  NaN"
      ]
     },
     "execution_count": 78,
     "metadata": {},
     "output_type": "execute_result"
    }
   ],
   "source": [
    "magnitud_fallecidos_economic_damage.describe()"
   ]
  },
  {
   "cell_type": "markdown",
   "id": "e7feb818-25d3-4e10-983b-1e91313ab2ed",
   "metadata": {},
   "source": [
    "#### Grafica de correlacion\n",
    "\n",
    "Esta grafica funciona de la siguiente manera:\n",
    "\n",
    "* El numero 1: representa la relacion entre dos variables total, que son iguales o que estan muy relacionada\n",
    "entre mas los valores se acerquen al numero 1, mas relacionadas estan.\n",
    "\n",
    "    En nuestro grafico hay tres numeros 1, pero estan relacionando o comparando variables del mismo nombre, osea que son iguales, por lo tanto\n",
    "    esta relacion es perfecta entre las variables, porque se comparan a ellas mismas entre si.\n",
    "\n",
    "* El numero 0: representa la relacion de dos variables que son diferentes, entre mas cerca del 0 este una variable menos se relaciona con las demas\n",
    "en nuestro caso hay tres valores: 0.14, 0.027 y 0.055, estos valores significan que la relacion es muy DEBIL y no se relacionan en casi nada, osea\n",
    "una variable no depende de la otra.\n",
    "\n",
    "    En primera instancian, si nos preguntan si la magnitud del desastre tiene que ver directamente con el numero de muertes y los daños\n",
    "    economicos, decimos si, sin pensarlo, pero como vemos en la grafica esto no es verdad.\n"
   ]
  },
  {
   "cell_type": "code",
   "execution_count": 117,
   "id": "09af8daf-6f7a-4981-99f7-6308bdd82128",
   "metadata": {},
   "outputs": [
    {
     "data": {
      "image/png": "[encoded data removed]",
      "text/plain": [
       "<Figure size 640x480 with 2 Axes>"
      ]
     },
     "metadata": {},
     "output_type": "display_data"
    }
   ],
   "source": [
    "correlación = df[[\"Muertes Totales\", \"Daños Económicos\", \"Magnitud\"]].corr()\n",
    "sns.heatmap(correlación, annot=True, cmap='coolwarm')\n",
    "plt.title('Matriz de Correlación')\n",
    "plt.show()"
   ]
  },
  {
   "cell_type": "markdown",
   "id": "42a45715-de0f-447a-b0f0-d5dde5b73e12",
   "metadata": {},
   "source": [
    "La correlacion entre variables es la siguiente:\n",
    "\n",
    "Muertes Totales - Daños Economicos = 0.14.\\\n",
    "Muertes Totales - Magnitud = 0.027.\\\n",
    "Daño Economico - Magnitud = 0.055.\n",
    "\n",
    "Esto segun el texto que explicaba como funcionaba el mapa de calor, significa\\\n",
    "que la relacion entre esas variables como es muy cercana a 0, es casi nula, o muy debil\\\n",
    "que lo que guarda cada variable no tiene nada que ver con lo demas, pero ¿Por que?"
   ]
  },
  {
   "cell_type": "code",
   "execution_count": 145,
   "id": "b99c4e17-6f8d-4fe7-9f0c-d41002f73253",
   "metadata": {},
   "outputs": [
    {
     "data": {
      "text/html": [
       "<div>\n",
       "<style scoped>\n",
       "    .dataframe tbody tr th:only-of-type {\n",
       "        vertical-align: middle;\n",
       "    }\n",
       "\n",
       "    .dataframe tbody tr th {\n",
       "        vertical-align: top;\n",
       "    }\n",
       "\n",
       "    .dataframe thead th {\n",
       "        text-align: right;\n",
       "    }\n",
       "</style>\n",
       "<table border=\"1\" class=\"dataframe\">\n",
       "  <thead>\n",
       "    <tr style=\"text-align: right;\">\n",
       "      <th></th>\n",
       "      <th>País</th>\n",
       "      <th>Muertes Totales</th>\n",
       "      <th>Daños Económicos</th>\n",
       "      <th>Magnitud</th>\n",
       "      <th>Fecha</th>\n",
       "    </tr>\n",
       "  </thead>\n",
       "  <tbody>\n",
       "    <tr>\n",
       "      <th>0</th>\n",
       "      <td>Mexico</td>\n",
       "      <td>41</td>\n",
       "      <td>16000</td>\n",
       "      <td>122621.0</td>\n",
       "      <td>2010-01-26</td>\n",
       "    </tr>\n",
       "    <tr>\n",
       "      <th>1</th>\n",
       "      <td>Portugal</td>\n",
       "      <td>43</td>\n",
       "      <td>1350000</td>\n",
       "      <td>483.0</td>\n",
       "      <td>2010-02-20</td>\n",
       "    </tr>\n",
       "  </tbody>\n",
       "</table>\n",
       "</div>"
      ],
      "text/plain": [
       "       País  Muertes Totales  Daños Económicos  Magnitud      Fecha\n",
       "0    Mexico               41             16000  122621.0 2010-01-26\n",
       "1  Portugal               43           1350000     483.0 2010-02-20"
      ]
     },
     "execution_count": 145,
     "metadata": {},
     "output_type": "execute_result"
    }
   ],
   "source": [
    "magnitud_fallecidos_economic_damage.head(2)"
   ]
  },
  {
   "cell_type": "code",
   "execution_count": 147,
   "id": "b3295480-95be-4be9-8700-15ee156e2615",
   "metadata": {},
   "outputs": [
    {
     "data": {
      "image/png": "[encoded data removed]",
      "text/plain": [
       "<Figure size 640x480 with 2 Axes>"
      ]
     },
     "metadata": {},
     "output_type": "display_data"
    }
   ],
   "source": [
    "correlación = df[[\"Muertes Totales\", \"Daños Económicos\", \"Magnitud\"]].corr()\n",
    "sns.heatmap(correlación, annot=True, cmap='coolwarm')\n",
    "plt.title('Matriz de Correlación')\n",
    "plt.show()"
   ]
  },
  {
   "cell_type": "markdown",
   "id": "26e0545a-c184-468a-815b-16a385f46ef3",
   "metadata": {},
   "source": [
    "Volviendo a este ejemplo, leemos lo siguiente:\n",
    "\n",
    "* Mexico: 41 muertes, $16,000 en daños económicos, magnitud de 122,621 km^2\n",
    "  \n",
    "* Portugal: 43 muertes, $1,350,000 en daños económicos, magnitud de 483 km^2\n",
    "\n",
    "Ahora teniendo en cuenta las correlaciones que obtuvimos de la grafica, la analisaremos una a una."
   ]
  },
  {
   "cell_type": "markdown",
   "id": "466fd267-a71b-4995-b194-f0a790b3e933",
   "metadata": {},
   "source": [
    "#### 4. Analisis de Correlacion:"
   ]
  },
  {
   "cell_type": "markdown",
   "id": "29326abc-5aff-480c-a90b-537b0656cfa7",
   "metadata": {},
   "source": [
    "* **Muertes Totales - Daños Económicos**: Los dos paises, a pesar de tener una cantidad de fallecidos muy similar, representan un daño\n",
    "  economico muy diferente, esto se interpreta como que el area afectada y lo que contenia como la infraestructura, el valor de los bienes y\n",
    "  la preparacion para los desastre estan involucrados.\n",
    "\n",
    "  En este caso especifico debemos estudiar la zona afectada de ambos paises, que tipo de infraestructura contenia en la fecha que fue producido el\n",
    "  desastre y como la frecuencias de inundaciones en estos lugares influyo directamente en la construccion de dicha infraestructura para minimizar el\n",
    "  daño economico al minimo, seria cuestion de profundizar en estos datos y buscar la respuesta para dicho caso."
   ]
  },
  {
   "cell_type": "markdown",
   "id": "eb53ef97-d591-4114-a8c3-50f7ffb45a30",
   "metadata": {},
   "source": [
    "* **Daño Económico - Magnitud**: Aqui sucede algo parecido al caso anterior, la magnitud del desastre, especificamente en estos tipos de desastre\n",
    "  no es un buen predicador del daño economico, debido a que estos dependen de mas variables o factores como lo es la densidad poblacional del area\n",
    "  afectada, debido a que normalmente si un sitio es propenso a las inundaciones se prepara mejor la infraestructura, hay poco habitantes y se minimiza\n",
    "  el daño."
   ]
  },
  {
   "cell_type": "markdown",
   "id": "beea2456-ab7d-47ce-a806-9e8b296cf391",
   "metadata": {},
   "source": [
    "* **Muertes Totales - Magnitud**: En este caso la magnitud de nuestro problema se tienen que añadir mas factores, no simplemente los fallecidos, esto\n",
    "  hay que agregarles variables extra que ya discutimos en los anteriores puntos, densidad poblacional, preparacion de la zona afectada, etc. Ya que por\n",
    "  ejemplo una inundacion extensa en un area poco poblada, por logica no va a causar casi muertes, ya sea porque la poblacion es mas facil de evacuar o\n",
    "  estan preparados para este tipo de desastres."
   ]
  },
  {
   "cell_type": "markdown",
   "id": "7566878e-536b-4a56-8436-dc193d8442c7",
   "metadata": {},
   "source": [
    "#### Naturaleza no lineal\n",
    "\n",
    "Este fenomeno, por llamarlo de alguna manera, se llama naturaleza no lineal, que son sistemas, procesos o relaciones donde las variables\n",
    "no cambian de manera proporcional entre si, sino que un pequeño cambio en una variable puede producir un gran efecto en otra, y por lo tanto\n",
    "es mas complejo de analisar que un sistema lineal.\n",
    "\n",
    "En nuestro caso, los desastres naturales hidrologicos es de naturaleza no lineal ya que gracias a otros factores o variables externas que no tenemos pueden variar drasticamente los resultados por ejemplo tenemos un umbral que en la magnitud causan grandes cambios en los daños económicos o las muertes, pero debajo de este umbral la relación podría ser mas debil.\n",
    "\n",
    "Por lo tanto, los resultados que obtenemos al inicio en la correlacion no quieren decir que esten equivocados, sino que nos faltan variables externas para evaluarlo correctamente en su contexto dado."
   ]
  }
 ],
 "metadata": {
  "kernelspec": {
   "display_name": "Python 3 (ipykernel)",
   "language": "python",
   "name": "python3"
  },
  "language_info": {
   "codemirror_mode": {
    "name": "ipython",
    "version": 3
   },
   "file_extension": ".py",
   "mimetype": "text/x-python",
   "name": "python",
   "nbconvert_exporter": "python",
   "pygments_lexer": "ipython3",
   "version": "3.12.4"
  }
 },
 "nbformat": 4,
 "nbformat_minor": 5
}
