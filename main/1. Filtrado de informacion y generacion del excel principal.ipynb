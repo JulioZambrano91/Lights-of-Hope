{
 "cells": [
  {
   "cell_type": "markdown",
   "id": "fabcc39d-f37b-4c90-8002-74534db0c4a0",
   "metadata": {},
   "source": [
    "#### Filtrado de datos de la database principal"
   ]
  },
  {
   "cell_type": "markdown",
   "id": "d1e3facf-c8dd-485a-b351-d21daa8ba224",
   "metadata": {},
   "source": [
    "#### 1. leemos el archivo desde el cual manipularemos los datos\n",
    "\n",
    "fuente: https://public.emdat.be/"
   ]
  },
  {
   "cell_type": "code",
   "execution_count": 70,
   "id": "d15bccce-60e2-491b-a7bc-a3ef7a2f275c",
   "metadata": {},
   "outputs": [
    {
     "data": {
      "text/html": [
       "<div>\n",
       "<style scoped>\n",
       "    .dataframe tbody tr th:only-of-type {\n",
       "        vertical-align: middle;\n",
       "    }\n",
       "\n",
       "    .dataframe tbody tr th {\n",
       "        vertical-align: top;\n",
       "    }\n",
       "\n",
       "    .dataframe thead th {\n",
       "        text-align: right;\n",
       "    }\n",
       "</style>\n",
       "<table border=\"1\" class=\"dataframe\">\n",
       "  <thead>\n",
       "    <tr style=\"text-align: right;\">\n",
       "      <th></th>\n",
       "      <th>DisNo.</th>\n",
       "      <th>Historic</th>\n",
       "      <th>Classification Key</th>\n",
       "      <th>Disaster Group</th>\n",
       "      <th>Disaster Subgroup</th>\n",
       "      <th>Disaster Type</th>\n",
       "      <th>Disaster Subtype</th>\n",
       "      <th>External IDs</th>\n",
       "      <th>Event Name</th>\n",
       "      <th>ISO</th>\n",
       "      <th>...</th>\n",
       "      <th>Reconstruction Costs ('000 US$)</th>\n",
       "      <th>Reconstruction Costs, Adjusted ('000 US$)</th>\n",
       "      <th>Insured Damage ('000 US$)</th>\n",
       "      <th>Insured Damage, Adjusted ('000 US$)</th>\n",
       "      <th>Total Damage ('000 US$)</th>\n",
       "      <th>Total Damage, Adjusted ('000 US$)</th>\n",
       "      <th>CPI</th>\n",
       "      <th>Admin Units</th>\n",
       "      <th>Entry Date</th>\n",
       "      <th>Last Update</th>\n",
       "    </tr>\n",
       "  </thead>\n",
       "  <tbody>\n",
       "    <tr>\n",
       "      <th>0</th>\n",
       "      <td>2009-0595-IND</td>\n",
       "      <td>No</td>\n",
       "      <td>nat-met-ext-col</td>\n",
       "      <td>Natural</td>\n",
       "      <td>Meteorological</td>\n",
       "      <td>Extreme temperature</td>\n",
       "      <td>Cold wave</td>\n",
       "      <td>GLIDE:CW-2010-000013</td>\n",
       "      <td>NaN</td>\n",
       "      <td>IND</td>\n",
       "      <td>...</td>\n",
       "      <td>NaN</td>\n",
       "      <td>NaN</td>\n",
       "      <td>NaN</td>\n",
       "      <td>NaN</td>\n",
       "      <td>NaN</td>\n",
       "      <td>NaN</td>\n",
       "      <td>71.563596</td>\n",
       "      <td>[{\"adm1_code\":1489,\"adm1_name\":\"Delhi\"},{\"adm1...</td>\n",
       "      <td>2010-08-04</td>\n",
       "      <td>2023-09-25</td>\n",
       "    </tr>\n",
       "    <tr>\n",
       "      <th>1</th>\n",
       "      <td>2010-0002-TJK</td>\n",
       "      <td>No</td>\n",
       "      <td>nat-geo-ear-gro</td>\n",
       "      <td>Natural</td>\n",
       "      <td>Geophysical</td>\n",
       "      <td>Earthquake</td>\n",
       "      <td>Ground movement</td>\n",
       "      <td>GLIDE:EQ-2010-000001</td>\n",
       "      <td>NaN</td>\n",
       "      <td>TJK</td>\n",
       "      <td>...</td>\n",
       "      <td>NaN</td>\n",
       "      <td>NaN</td>\n",
       "      <td>NaN</td>\n",
       "      <td>NaN</td>\n",
       "      <td>1500.0</td>\n",
       "      <td>2096.0</td>\n",
       "      <td>71.563596</td>\n",
       "      <td>[{\"adm2_code\":37581,\"adm2_name\":\"Vanchskiy\"}]</td>\n",
       "      <td>2010-02-03</td>\n",
       "      <td>2023-09-25</td>\n",
       "    </tr>\n",
       "    <tr>\n",
       "      <th>2</th>\n",
       "      <td>2010-0003-SLB</td>\n",
       "      <td>No</td>\n",
       "      <td>nat-geo-ear-gro</td>\n",
       "      <td>Natural</td>\n",
       "      <td>Geophysical</td>\n",
       "      <td>Earthquake</td>\n",
       "      <td>Ground movement</td>\n",
       "      <td>USGS:usp000h5np</td>\n",
       "      <td>NaN</td>\n",
       "      <td>SLB</td>\n",
       "      <td>...</td>\n",
       "      <td>NaN</td>\n",
       "      <td>NaN</td>\n",
       "      <td>NaN</td>\n",
       "      <td>NaN</td>\n",
       "      <td>NaN</td>\n",
       "      <td>NaN</td>\n",
       "      <td>71.563596</td>\n",
       "      <td>[{\"adm2_code\":25652,\"adm2_name\":\"Administrativ...</td>\n",
       "      <td>2014-05-12</td>\n",
       "      <td>2023-09-25</td>\n",
       "    </tr>\n",
       "    <tr>\n",
       "      <th>3</th>\n",
       "      <td>2010-0004-BGD</td>\n",
       "      <td>No</td>\n",
       "      <td>tec-tra-roa-roa</td>\n",
       "      <td>Technological</td>\n",
       "      <td>Transport</td>\n",
       "      <td>Road</td>\n",
       "      <td>Road</td>\n",
       "      <td>NaN</td>\n",
       "      <td>NaN</td>\n",
       "      <td>BGD</td>\n",
       "      <td>...</td>\n",
       "      <td>NaN</td>\n",
       "      <td>NaN</td>\n",
       "      <td>NaN</td>\n",
       "      <td>NaN</td>\n",
       "      <td>NaN</td>\n",
       "      <td>NaN</td>\n",
       "      <td>71.563596</td>\n",
       "      <td>NaN</td>\n",
       "      <td>2010-01-05</td>\n",
       "      <td>2023-09-25</td>\n",
       "    </tr>\n",
       "    <tr>\n",
       "      <th>4</th>\n",
       "      <td>2010-0005-IND</td>\n",
       "      <td>No</td>\n",
       "      <td>tec-tra-rai-rai</td>\n",
       "      <td>Technological</td>\n",
       "      <td>Transport</td>\n",
       "      <td>Rail</td>\n",
       "      <td>Rail</td>\n",
       "      <td>NaN</td>\n",
       "      <td>NaN</td>\n",
       "      <td>IND</td>\n",
       "      <td>...</td>\n",
       "      <td>NaN</td>\n",
       "      <td>NaN</td>\n",
       "      <td>NaN</td>\n",
       "      <td>NaN</td>\n",
       "      <td>NaN</td>\n",
       "      <td>NaN</td>\n",
       "      <td>71.563596</td>\n",
       "      <td>NaN</td>\n",
       "      <td>2010-01-05</td>\n",
       "      <td>2023-09-25</td>\n",
       "    </tr>\n",
       "  </tbody>\n",
       "</table>\n",
       "<p>5 rows × 46 columns</p>\n",
       "</div>"
      ],
      "text/plain": [
       "          DisNo. Historic Classification Key Disaster Group Disaster Subgroup  \\\n",
       "0  2009-0595-IND       No    nat-met-ext-col        Natural    Meteorological   \n",
       "1  2010-0002-TJK       No    nat-geo-ear-gro        Natural       Geophysical   \n",
       "2  2010-0003-SLB       No    nat-geo-ear-gro        Natural       Geophysical   \n",
       "3  2010-0004-BGD       No    tec-tra-roa-roa  Technological         Transport   \n",
       "4  2010-0005-IND       No    tec-tra-rai-rai  Technological         Transport   \n",
       "\n",
       "         Disaster Type Disaster Subtype          External IDs Event Name  ISO  \\\n",
       "0  Extreme temperature        Cold wave  GLIDE:CW-2010-000013        NaN  IND   \n",
       "1           Earthquake  Ground movement  GLIDE:EQ-2010-000001        NaN  TJK   \n",
       "2           Earthquake  Ground movement       USGS:usp000h5np        NaN  SLB   \n",
       "3                 Road             Road                   NaN        NaN  BGD   \n",
       "4                 Rail             Rail                   NaN        NaN  IND   \n",
       "\n",
       "   ... Reconstruction Costs ('000 US$)  \\\n",
       "0  ...                             NaN   \n",
       "1  ...                             NaN   \n",
       "2  ...                             NaN   \n",
       "3  ...                             NaN   \n",
       "4  ...                             NaN   \n",
       "\n",
       "  Reconstruction Costs, Adjusted ('000 US$) Insured Damage ('000 US$)  \\\n",
       "0                                       NaN                       NaN   \n",
       "1                                       NaN                       NaN   \n",
       "2                                       NaN                       NaN   \n",
       "3                                       NaN                       NaN   \n",
       "4                                       NaN                       NaN   \n",
       "\n",
       "  Insured Damage, Adjusted ('000 US$) Total Damage ('000 US$)  \\\n",
       "0                                 NaN                     NaN   \n",
       "1                                 NaN                  1500.0   \n",
       "2                                 NaN                     NaN   \n",
       "3                                 NaN                     NaN   \n",
       "4                                 NaN                     NaN   \n",
       "\n",
       "  Total Damage, Adjusted ('000 US$)        CPI  \\\n",
       "0                               NaN  71.563596   \n",
       "1                            2096.0  71.563596   \n",
       "2                               NaN  71.563596   \n",
       "3                               NaN  71.563596   \n",
       "4                               NaN  71.563596   \n",
       "\n",
       "                                         Admin Units  Entry Date  Last Update  \n",
       "0  [{\"adm1_code\":1489,\"adm1_name\":\"Delhi\"},{\"adm1...  2010-08-04   2023-09-25  \n",
       "1      [{\"adm2_code\":37581,\"adm2_name\":\"Vanchskiy\"}]  2010-02-03   2023-09-25  \n",
       "2  [{\"adm2_code\":25652,\"adm2_name\":\"Administrativ...  2014-05-12   2023-09-25  \n",
       "3                                                NaN  2010-01-05   2023-09-25  \n",
       "4                                                NaN  2010-01-05   2023-09-25  \n",
       "\n",
       "[5 rows x 46 columns]"
      ]
     },
     "execution_count": 70,
     "metadata": {},
     "output_type": "execute_result"
    }
   ],
   "source": [
    "import pandas as pd\n",
    "\n",
    "file = pd.read_excel(\"../database/data_no_procesada/database_2010_2024.xlsx\")\n",
    "file.head() "
   ]
  },
  {
   "cell_type": "code",
   "execution_count": 81,
   "id": "56c17b35-5939-4811-b22b-56d178c496f3",
   "metadata": {},
   "outputs": [
    {
     "name": "stdout",
     "output_type": "stream",
     "text": [
      "<class 'pandas.core.frame.DataFrame'>\n",
      "RangeIndex: 8410 entries, 0 to 8409\n",
      "Data columns (total 46 columns):\n",
      " #   Column                                     Non-Null Count  Dtype  \n",
      "---  ------                                     --------------  -----  \n",
      " 0   DisNo.                                     8410 non-null   object \n",
      " 1   Historic                                   8410 non-null   object \n",
      " 2   Classification Key                         8410 non-null   object \n",
      " 3   Disaster Group                             8410 non-null   object \n",
      " 4   Disaster Subgroup                          8410 non-null   object \n",
      " 5   Disaster Type                              8410 non-null   object \n",
      " 6   Disaster Subtype                           8410 non-null   object \n",
      " 7   External IDs                               1764 non-null   object \n",
      " 8   Event Name                                 2558 non-null   object \n",
      " 9   ISO                                        8410 non-null   object \n",
      " 10  Country                                    8410 non-null   object \n",
      " 11  Subregion                                  8410 non-null   object \n",
      " 12  Region                                     8410 non-null   object \n",
      " 13  Location                                   7904 non-null   object \n",
      " 14  Origin                                     2362 non-null   object \n",
      " 15  Associated Types                           2118 non-null   object \n",
      " 16  OFDA/BHA Response                          8410 non-null   object \n",
      " 17  Appeal                                     8410 non-null   object \n",
      " 18  Declaration                                8410 non-null   object \n",
      " 19  AID Contribution ('000 US$)                112 non-null    float64\n",
      " 20  Magnitude                                  1508 non-null   float64\n",
      " 21  Magnitude Scale                            5627 non-null   object \n",
      " 22  Latitude                                   902 non-null    float64\n",
      " 23  Longitude                                  902 non-null    float64\n",
      " 24  River Basin                                537 non-null    object \n",
      " 25  Start Year                                 8410 non-null   int64  \n",
      " 26  Start Month                                8361 non-null   float64\n",
      " 27  Start Day                                  7707 non-null   float64\n",
      " 28  End Year                                   8410 non-null   int64  \n",
      " 29  End Month                                  8374 non-null   float64\n",
      " 30  End Day                                    7759 non-null   float64\n",
      " 31  Total Deaths                               6685 non-null   float64\n",
      " 32  No. Injured                                3056 non-null   float64\n",
      " 33  No. Affected                               4201 non-null   float64\n",
      " 34  No. Homeless                               581 non-null    float64\n",
      " 35  Total Affected                             6273 non-null   float64\n",
      " 36  Reconstruction Costs ('000 US$)            23 non-null     float64\n",
      " 37  Reconstruction Costs, Adjusted ('000 US$)  23 non-null     float64\n",
      " 38  Insured Damage ('000 US$)                  411 non-null    float64\n",
      " 39  Insured Damage, Adjusted ('000 US$)        398 non-null    float64\n",
      " 40  Total Damage ('000 US$)                    1867 non-null   float64\n",
      " 41  Total Damage, Adjusted ('000 US$)          1826 non-null   float64\n",
      " 42  CPI                                        8003 non-null   float64\n",
      " 43  Admin Units                                4643 non-null   object \n",
      " 44  Entry Date                                 8410 non-null   object \n",
      " 45  Last Update                                8410 non-null   object \n",
      "dtypes: float64(20), int64(2), object(24)\n",
      "memory usage: 3.0+ MB\n"
     ]
    }
   ],
   "source": [
    "file.info()"
   ]
  },
  {
   "cell_type": "code",
   "execution_count": null,
   "id": "0e23215b-e00a-40ca-9edb-9e7022b45bfd",
   "metadata": {},
   "outputs": [],
   "source": [
    "df_hydrological = df_hydrological[df_hydrological[\"Disaster Subgroup\"] == \"Hydrological\"] # filtro por tipo de desastre Hydrological\n",
    "df_hydrological.info()"
   ]
  },
  {
   "cell_type": "markdown",
   "id": "b96a337e-d8cf-4c7f-9682-3147e6fda1a7",
   "metadata": {},
   "source": [
    "#### 2. filtramos las columnas que nos interesa para nuestro analisis"
   ]
  },
  {
   "cell_type": "code",
   "execution_count": 72,
   "id": "cfdb32e0-517c-4bba-afd4-dd537d2c225a",
   "metadata": {},
   "outputs": [
    {
     "name": "stdout",
     "output_type": "stream",
     "text": [
      "<class 'pandas.core.frame.DataFrame'>\n",
      "RangeIndex: 8410 entries, 0 to 8409\n",
      "Data columns (total 11 columns):\n",
      " #   Column                   Non-Null Count  Dtype  \n",
      "---  ------                   --------------  -----  \n",
      " 0   Start Year               8410 non-null   int64  \n",
      " 1   Start Month              8361 non-null   float64\n",
      " 2   Start Day                7707 non-null   float64\n",
      " 3   Country                  8410 non-null   object \n",
      " 4   Region                   8410 non-null   object \n",
      " 5   Location                 7904 non-null   object \n",
      " 6   Magnitude                1508 non-null   float64\n",
      " 7   Disaster Subgroup        8410 non-null   object \n",
      " 8   Total Damage ('000 US$)  1867 non-null   float64\n",
      " 9   Total Deaths             6685 non-null   float64\n",
      " 10  Disaster Type            8410 non-null   object \n",
      "dtypes: float64(5), int64(1), object(5)\n",
      "memory usage: 722.9+ KB\n"
     ]
    }
   ],
   "source": [
    "columnas_relevantes = [\n",
    "    'Start Year', 'Start Month', 'Start Day', \n",
    "    'Country', 'Region', 'Location', 'Magnitude', \n",
    "    \"Disaster Subgroup\", 'Total Damage (\\'000 US$)', 'Total Deaths', \"Disaster Type\"\n",
    "]\n",
    "\n",
    "df_hydrological = file[columnas_relevantes]\n",
    "df_hydrological.info()"
   ]
  },
  {
   "cell_type": "markdown",
   "id": "4b0209e9-1f33-4c27-a697-0c5f25195f82",
   "metadata": {},
   "source": [
    "#### 3. Filtramos por el tipo de desastre hydrological\n",
    "el cual es el tipo de desastre que vamos a analizar"
   ]
  },
  {
   "cell_type": "code",
   "execution_count": 74,
   "id": "d194ba09-7b7d-4e20-9651-3040b2333da7",
   "metadata": {},
   "outputs": [
    {
     "name": "stdout",
     "output_type": "stream",
     "text": [
      "<class 'pandas.core.frame.DataFrame'>\n",
      "Index: 2685 entries, 6 to 8400\n",
      "Data columns (total 11 columns):\n",
      " #   Column                   Non-Null Count  Dtype  \n",
      "---  ------                   --------------  -----  \n",
      " 0   Start Year               2685 non-null   int64  \n",
      " 1   Start Month              2684 non-null   float64\n",
      " 2   Start Day                2542 non-null   float64\n",
      " 3   Country                  2685 non-null   object \n",
      " 4   Region                   2685 non-null   object \n",
      " 5   Location                 2662 non-null   object \n",
      " 6   Magnitude                506 non-null    float64\n",
      " 7   Disaster Subgroup        2685 non-null   object \n",
      " 8   Total Damage ('000 US$)  706 non-null    float64\n",
      " 9   Total Deaths             2053 non-null   float64\n",
      " 10  Disaster Type            2685 non-null   object \n",
      "dtypes: float64(5), int64(1), object(5)\n",
      "memory usage: 251.7+ KB\n"
     ]
    }
   ],
   "source": [
    "df_hydrological = df_hydrological[df_hydrological[\"Disaster Subgroup\"] == \"Hydrological\"] # filtro por tipo de desastre Hydrological\n",
    "df_hydrological.info()"
   ]
  },
  {
   "cell_type": "markdown",
   "id": "ea4e22d2-471a-4c82-b6d5-9643d19141a8",
   "metadata": {},
   "source": [
    "#### 4. Filtamos los datos de magnitud para que no nos queden datos NaN\n",
    "\n",
    "Magnitude, es la variable en la cual basaremos nuestro analisis, por lo tanto no pueden quedar datos NaN"
   ]
  },
  {
   "cell_type": "code",
   "execution_count": 67,
   "id": "aa666c4b-846d-4bec-9fca-8629a20d821b",
   "metadata": {},
   "outputs": [
    {
     "name": "stdout",
     "output_type": "stream",
     "text": [
      "<class 'pandas.core.frame.DataFrame'>\n",
      "Index: 506 entries, 16 to 7898\n",
      "Data columns (total 10 columns):\n",
      " #   Column                   Non-Null Count  Dtype  \n",
      "---  ------                   --------------  -----  \n",
      " 0   Start Year               506 non-null    int64  \n",
      " 1   Start Month              506 non-null    float64\n",
      " 2   Start Day                496 non-null    float64\n",
      " 3   Country                  506 non-null    object \n",
      " 4   Region                   506 non-null    object \n",
      " 5   Location                 504 non-null    object \n",
      " 6   Magnitude                506 non-null    float64\n",
      " 7   Disaster Subgroup        506 non-null    object \n",
      " 8   Total Damage ('000 US$)  196 non-null    float64\n",
      " 9   Total Deaths             410 non-null    float64\n",
      "dtypes: float64(5), int64(1), object(4)\n",
      "memory usage: 43.5+ KB\n"
     ]
    }
   ],
   "source": [
    "df_hydrological_magnitude = df_hydrological[df_hydrological[\"Magnitude\"] >= 0]\n",
    "df_hydrological_magnitude.info()"
   ]
  },
  {
   "cell_type": "markdown",
   "id": "ffba81c5-07b3-4f19-bb3d-4953f41ff0f0",
   "metadata": {},
   "source": [
    "#### 5. Verificamos el numero de datos nulos con los que trabajamos\n",
    "notamos que la unica variable con muchos datos datos nulos es Total Damage, pero esto se limpiara en el jupyter del analisis\n",
    "de dicha variable."
   ]
  },
  {
   "cell_type": "code",
   "execution_count": 61,
   "id": "5f0f3a89-8c13-4c72-9f25-eb486a62bbbf",
   "metadata": {},
   "outputs": [
    {
     "data": {
      "text/plain": [
       "Start Year                   0\n",
       "Start Month                  0\n",
       "Start Day                   10\n",
       "Country                      0\n",
       "Region                       0\n",
       "Location                     2\n",
       "Magnitude                    0\n",
       "Disaster Subgroup            0\n",
       "Total Damage ('000 US$)    310\n",
       "Total Deaths                96\n",
       "dtype: int64"
      ]
     },
     "execution_count": 61,
     "metadata": {},
     "output_type": "execute_result"
    }
   ],
   "source": [
    "df_hydrological_magnitude.isnull().sum() "
   ]
  },
  {
   "cell_type": "markdown",
   "id": "4477a1b7-a47b-4320-9016-f1149d961b4e",
   "metadata": {},
   "source": [
    "#### 6. Guardamos esta informacion en un nuevo excel para manipular a partir de este nuestro analisis principal\n",
    "\n",
    "Estudiaremos tanto la relacion entre magnitud-total de muertos y magnitud-daños economicos"
   ]
  },
  {
   "cell_type": "code",
   "execution_count": 63,
   "id": "79f2f79c-7134-4e1b-b731-3b07c420b13b",
   "metadata": {},
   "outputs": [],
   "source": [
    "df_hydrological_magnitude.to_excel(\"../database/data_procesada/database_2010_2024.xlsx\")"
   ]
  }
 ],
 "metadata": {
  "kernelspec": {
   "display_name": "Python 3 (ipykernel)",
   "language": "python",
   "name": "python3"
  },
  "language_info": {
   "codemirror_mode": {
    "name": "ipython",
    "version": 3
   },
   "file_extension": ".py",
   "mimetype": "text/x-python",
   "name": "python",
   "nbconvert_exporter": "python",
   "pygments_lexer": "ipython3",
   "version": "3.12.4"
  }
 },
 "nbformat": 4,
 "nbformat_minor": 5
}
